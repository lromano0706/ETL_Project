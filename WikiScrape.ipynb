{
 "cells": [
  {
   "cell_type": "markdown",
   "metadata": {
    "slideshow": {
     "slide_type": "slide"
    }
   },
   "source": [
    "# Scraping with Pandas"
   ]
  },
  {
   "cell_type": "code",
   "execution_count": 3,
   "metadata": {
    "slideshow": {
     "slide_type": "slide"
    }
   },
   "outputs": [],
   "source": [
    "import pandas as pd"
   ]
  },
  {
   "cell_type": "markdown",
   "metadata": {
    "slideshow": {
     "slide_type": "subslide"
    }
   },
   "source": [
    "We can use the `read_html` function in Pandas to automatically scrape any tabular data from a page."
   ]
  },
  {
   "cell_type": "code",
   "execution_count": 15,
   "metadata": {
    "slideshow": {
     "slide_type": "fragment"
    }
   },
   "outputs": [],
   "source": [
    "url = 'https://en.wikipedia.org/wiki/List_of_video_game_publishers'"
   ]
  },
  {
   "cell_type": "code",
   "execution_count": 16,
   "metadata": {
    "slideshow": {
     "slide_type": "fragment"
    }
   },
   "outputs": [
    {
     "data": {
      "text/plain": [
       "[                                                   0\n",
       " 0                               active independently\n",
       " 1      active as subsidiary of larger game publisher\n",
       " 2  defunct / no longer active in video game publi...,\n",
       "                 Publisher                       Headquarters  Est.  \\\n",
       " 0          07th Expansion                              Japan  2002   \n",
       " 1          11 bit studios                     Warsaw, Poland  2010   \n",
       " 2              1C Company                     Moscow, Russia  1991   \n",
       " 3                2K Games  Novato, California, United States  2005   \n",
       " 4               3D Realms      Garland, Texas, United States  1987   \n",
       " ..                    ...                                ...   ...   \n",
       " 845                  Zoom                     Sapporo, Japan  1988   \n",
       " 846  Zuxxez Entertainment                 Karlsruhe, Germany  2001   \n",
       " 847           Zushi Games             Sheffield, England, UK  1999   \n",
       " 848                 Zynga          San Francisco, California  2007   \n",
       " 849                   ZyX                              Japan  1994   \n",
       " \n",
       "                                Notable games published  \\\n",
       " 0    Higurashi When They Cry Umineko When They Cry ...   \n",
       " 1               Frostpunk This War of Mine Moonlighter   \n",
       " 2                         Il-2 seriesMen of War series   \n",
       " 3                                               NBA 2K   \n",
       " 4                                    Duke Nukem series   \n",
       " ..                                                 ...   \n",
       " 845                                           Overtake   \n",
       " 846                                                NaN   \n",
       " 847                                                NaN   \n",
       " 848                                FarmVilleMafia Wars   \n",
       " 849                                                NaN   \n",
       " \n",
       "                                                  Notes  \n",
       " 0                                                  NaN  \n",
       " 1      video game developer, marketer, and distributor  \n",
       " 2               specializes in localization for Russia  \n",
       " 3    video game marketer and distributor; subsidiar...  \n",
       " 4    video game developer; also known as Apogee Sof...  \n",
       " ..                                                 ...  \n",
       " 845                                                NaN  \n",
       " 846  acquired TopWare Interactive in 2001; renamed ...  \n",
       " 847                                                NaN  \n",
       " 848                                                NaN  \n",
       " 849                                                NaN  \n",
       " \n",
       " [850 rows x 5 columns]]"
      ]
     },
     "execution_count": 16,
     "metadata": {},
     "output_type": "execute_result"
    }
   ],
   "source": [
    "tables = pd.read_html(url)\n",
    "tables"
   ]
  },
  {
   "cell_type": "markdown",
   "metadata": {
    "slideshow": {
     "slide_type": "subslide"
    }
   },
   "source": [
    "#### What we get in return is a list of dataframes for any tabular data that Pandas found."
   ]
  },
  {
   "cell_type": "code",
   "execution_count": 17,
   "metadata": {
    "slideshow": {
     "slide_type": "fragment"
    }
   },
   "outputs": [
    {
     "data": {
      "text/plain": [
       "list"
      ]
     },
     "execution_count": 17,
     "metadata": {},
     "output_type": "execute_result"
    }
   ],
   "source": [
    "type(tables)"
   ]
  },
  {
   "cell_type": "code",
   "execution_count": 18,
   "metadata": {},
   "outputs": [
    {
     "data": {
      "text/plain": [
       "2"
      ]
     },
     "execution_count": 18,
     "metadata": {},
     "output_type": "execute_result"
    }
   ],
   "source": [
    "len(tables)"
   ]
  },
  {
   "cell_type": "markdown",
   "metadata": {
    "slideshow": {
     "slide_type": "subslide"
    }
   },
   "source": [
    "#### We can slice off any of those dataframes that we want using normal indexing."
   ]
  },
  {
   "cell_type": "code",
   "execution_count": 21,
   "metadata": {
    "slideshow": {
     "slide_type": "fragment"
    }
   },
   "outputs": [
    {
     "data": {
      "text/html": [
       "<div>\n",
       "<style scoped>\n",
       "    .dataframe tbody tr th:only-of-type {\n",
       "        vertical-align: middle;\n",
       "    }\n",
       "\n",
       "    .dataframe tbody tr th {\n",
       "        vertical-align: top;\n",
       "    }\n",
       "\n",
       "    .dataframe thead th {\n",
       "        text-align: right;\n",
       "    }\n",
       "</style>\n",
       "<table border=\"1\" class=\"dataframe\">\n",
       "  <thead>\n",
       "    <tr style=\"text-align: right;\">\n",
       "      <th></th>\n",
       "      <th>Publisher</th>\n",
       "      <th>Headquarters</th>\n",
       "      <th>Est.</th>\n",
       "      <th>Notable games published</th>\n",
       "      <th>Notes</th>\n",
       "    </tr>\n",
       "  </thead>\n",
       "  <tbody>\n",
       "    <tr>\n",
       "      <th>0</th>\n",
       "      <td>07th Expansion</td>\n",
       "      <td>Japan</td>\n",
       "      <td>2002</td>\n",
       "      <td>Higurashi When They Cry Umineko When They Cry ...</td>\n",
       "      <td>NaN</td>\n",
       "    </tr>\n",
       "    <tr>\n",
       "      <th>1</th>\n",
       "      <td>11 bit studios</td>\n",
       "      <td>Warsaw, Poland</td>\n",
       "      <td>2010</td>\n",
       "      <td>Frostpunk This War of Mine Moonlighter</td>\n",
       "      <td>video game developer, marketer, and distributor</td>\n",
       "    </tr>\n",
       "    <tr>\n",
       "      <th>2</th>\n",
       "      <td>1C Company</td>\n",
       "      <td>Moscow, Russia</td>\n",
       "      <td>1991</td>\n",
       "      <td>Il-2 seriesMen of War series</td>\n",
       "      <td>specializes in localization for Russia</td>\n",
       "    </tr>\n",
       "    <tr>\n",
       "      <th>3</th>\n",
       "      <td>2K Games</td>\n",
       "      <td>Novato, California, United States</td>\n",
       "      <td>2005</td>\n",
       "      <td>NBA 2K</td>\n",
       "      <td>video game marketer and distributor; subsidiar...</td>\n",
       "    </tr>\n",
       "    <tr>\n",
       "      <th>4</th>\n",
       "      <td>3D Realms</td>\n",
       "      <td>Garland, Texas, United States</td>\n",
       "      <td>1987</td>\n",
       "      <td>Duke Nukem series</td>\n",
       "      <td>video game developer; also known as Apogee Sof...</td>\n",
       "    </tr>\n",
       "  </tbody>\n",
       "</table>\n",
       "</div>"
      ],
      "text/plain": [
       "        Publisher                       Headquarters  Est.  \\\n",
       "0  07th Expansion                              Japan  2002   \n",
       "1  11 bit studios                     Warsaw, Poland  2010   \n",
       "2      1C Company                     Moscow, Russia  1991   \n",
       "3        2K Games  Novato, California, United States  2005   \n",
       "4       3D Realms      Garland, Texas, United States  1987   \n",
       "\n",
       "                             Notable games published  \\\n",
       "0  Higurashi When They Cry Umineko When They Cry ...   \n",
       "1             Frostpunk This War of Mine Moonlighter   \n",
       "2                       Il-2 seriesMen of War series   \n",
       "3                                             NBA 2K   \n",
       "4                                  Duke Nukem series   \n",
       "\n",
       "                                               Notes  \n",
       "0                                                NaN  \n",
       "1    video game developer, marketer, and distributor  \n",
       "2             specializes in localization for Russia  \n",
       "3  video game marketer and distributor; subsidiar...  \n",
       "4  video game developer; also known as Apogee Sof...  "
      ]
     },
     "execution_count": 21,
     "metadata": {},
     "output_type": "execute_result"
    }
   ],
   "source": [
    "df = tables[1]\n",
    "df.head()\n"
   ]
  },
  {
   "cell_type": "code",
   "execution_count": null,
   "metadata": {},
   "outputs": [],
   "source": []
  },
  {
   "cell_type": "code",
   "execution_count": 31,
   "metadata": {},
   "outputs": [
    {
     "data": {
      "text/html": [
       "<div>\n",
       "<style scoped>\n",
       "    .dataframe tbody tr th:only-of-type {\n",
       "        vertical-align: middle;\n",
       "    }\n",
       "\n",
       "    .dataframe tbody tr th {\n",
       "        vertical-align: top;\n",
       "    }\n",
       "\n",
       "    .dataframe thead th {\n",
       "        text-align: right;\n",
       "    }\n",
       "</style>\n",
       "<table border=\"1\" class=\"dataframe\">\n",
       "  <thead>\n",
       "    <tr style=\"text-align: right;\">\n",
       "      <th></th>\n",
       "      <th>Publisher</th>\n",
       "      <th>Headquarters</th>\n",
       "      <th>Est.</th>\n",
       "      <th>Notable games published</th>\n",
       "      <th>Notes</th>\n",
       "    </tr>\n",
       "  </thead>\n",
       "  <tbody>\n",
       "    <tr>\n",
       "      <th>8</th>\n",
       "      <td>A&amp;F Software</td>\n",
       "      <td>Rochdale, UK</td>\n",
       "      <td>1981</td>\n",
       "      <td>Chuckie Egg</td>\n",
       "      <td>merged with MC Lothlorien in 1986 to become Ic...</td>\n",
       "    </tr>\n",
       "    <tr>\n",
       "      <th>9</th>\n",
       "      <td>Aackosoft</td>\n",
       "      <td>Zoeterwoude, Netherlands</td>\n",
       "      <td>1983</td>\n",
       "      <td>various MSX games</td>\n",
       "      <td>defunct 1988</td>\n",
       "    </tr>\n",
       "    <tr>\n",
       "      <th>10</th>\n",
       "      <td>Aardvark Software</td>\n",
       "      <td>UK</td>\n",
       "      <td>1983</td>\n",
       "      <td>Frak!</td>\n",
       "      <td>defunct 1989</td>\n",
       "    </tr>\n",
       "    <tr>\n",
       "      <th>11</th>\n",
       "      <td>ABC Software</td>\n",
       "      <td>Buchs, St; gallen, Switzerland</td>\n",
       "      <td>1991</td>\n",
       "      <td>NaN</td>\n",
       "      <td>acquired by Electronic Arts in 1998</td>\n",
       "    </tr>\n",
       "    <tr>\n",
       "      <th>12</th>\n",
       "      <td>Absolute Entertainment</td>\n",
       "      <td>Upper Saddle River, New Jersey, United States</td>\n",
       "      <td>1986</td>\n",
       "      <td>A Boy and His Blob: Trouble on Blobolonia</td>\n",
       "      <td>defunct 1995</td>\n",
       "    </tr>\n",
       "    <tr>\n",
       "      <th>...</th>\n",
       "      <td>...</td>\n",
       "      <td>...</td>\n",
       "      <td>...</td>\n",
       "      <td>...</td>\n",
       "      <td>...</td>\n",
       "    </tr>\n",
       "    <tr>\n",
       "      <th>88</th>\n",
       "      <td>Automata UK</td>\n",
       "      <td>Portsmouth, Hampshire, England, UK</td>\n",
       "      <td>1977</td>\n",
       "      <td>Deus Ex Machina</td>\n",
       "      <td>defunct 1985</td>\n",
       "    </tr>\n",
       "    <tr>\n",
       "      <th>89</th>\n",
       "      <td>Autumn Games</td>\n",
       "      <td>New York City, United States</td>\n",
       "      <td>2007</td>\n",
       "      <td>Skullgirls</td>\n",
       "      <td>focused on providing publishing services for i...</td>\n",
       "    </tr>\n",
       "    <tr>\n",
       "      <th>90</th>\n",
       "      <td>Avalon Hill</td>\n",
       "      <td>Renton, Washington, United States</td>\n",
       "      <td>1954</td>\n",
       "      <td>Achtung Spitfire!</td>\n",
       "      <td>acquired by Hasbro in 1998</td>\n",
       "    </tr>\n",
       "    <tr>\n",
       "      <th>91</th>\n",
       "      <td>Aventuras AD</td>\n",
       "      <td>Spain</td>\n",
       "      <td>1987</td>\n",
       "      <td>various text adventure games</td>\n",
       "      <td>defunct 1992</td>\n",
       "    </tr>\n",
       "    <tr>\n",
       "      <th>92</th>\n",
       "      <td>Aventurine SA</td>\n",
       "      <td>Athens, Greece</td>\n",
       "      <td>2002</td>\n",
       "      <td>Darkfall</td>\n",
       "      <td>video game developer</td>\n",
       "    </tr>\n",
       "  </tbody>\n",
       "</table>\n",
       "<p>83 rows × 5 columns</p>\n",
       "</div>"
      ],
      "text/plain": [
       "                 Publisher                                   Headquarters  \\\n",
       "8             A&F Software                                   Rochdale, UK   \n",
       "9                Aackosoft                       Zoeterwoude, Netherlands   \n",
       "10       Aardvark Software                                             UK   \n",
       "11            ABC Software                 Buchs, St; gallen, Switzerland   \n",
       "12  Absolute Entertainment  Upper Saddle River, New Jersey, United States   \n",
       "..                     ...                                            ...   \n",
       "88             Automata UK             Portsmouth, Hampshire, England, UK   \n",
       "89            Autumn Games                   New York City, United States   \n",
       "90             Avalon Hill              Renton, Washington, United States   \n",
       "91            Aventuras AD                                          Spain   \n",
       "92           Aventurine SA                                 Athens, Greece   \n",
       "\n",
       "    Est.                    Notable games published  \\\n",
       "8   1981                                Chuckie Egg   \n",
       "9   1983                          various MSX games   \n",
       "10  1983                                      Frak!   \n",
       "11  1991                                        NaN   \n",
       "12  1986  A Boy and His Blob: Trouble on Blobolonia   \n",
       "..   ...                                        ...   \n",
       "88  1977                            Deus Ex Machina   \n",
       "89  2007                                 Skullgirls   \n",
       "90  1954                          Achtung Spitfire!   \n",
       "91  1987               various text adventure games   \n",
       "92  2002                                   Darkfall   \n",
       "\n",
       "                                                Notes  \n",
       "8   merged with MC Lothlorien in 1986 to become Ic...  \n",
       "9                                        defunct 1988  \n",
       "10                                       defunct 1989  \n",
       "11                acquired by Electronic Arts in 1998  \n",
       "12                                       defunct 1995  \n",
       "..                                                ...  \n",
       "88                                       defunct 1985  \n",
       "89  focused on providing publishing services for i...  \n",
       "90                         acquired by Hasbro in 1998  \n",
       "91                                       defunct 1992  \n",
       "92                               video game developer  \n",
       "\n",
       "[83 rows x 5 columns]"
      ]
     },
     "execution_count": 31,
     "metadata": {},
     "output_type": "execute_result"
    }
   ],
   "source": [
    "r_games = df.loc[df['Publisher'].str.startswith('A')]\n",
    "r_games"
   ]
  },
  {
   "cell_type": "code",
   "execution_count": 35,
   "metadata": {},
   "outputs": [],
   "source": [
    "df_upper = df.Publisher.str.upper()"
   ]
  },
  {
   "cell_type": "code",
   "execution_count": 39,
   "metadata": {},
   "outputs": [],
   "source": [
    "df.Publisher = df_upper"
   ]
  },
  {
   "cell_type": "code",
   "execution_count": 40,
   "metadata": {},
   "outputs": [
    {
     "data": {
      "text/html": [
       "<div>\n",
       "<style scoped>\n",
       "    .dataframe tbody tr th:only-of-type {\n",
       "        vertical-align: middle;\n",
       "    }\n",
       "\n",
       "    .dataframe tbody tr th {\n",
       "        vertical-align: top;\n",
       "    }\n",
       "\n",
       "    .dataframe thead th {\n",
       "        text-align: right;\n",
       "    }\n",
       "</style>\n",
       "<table border=\"1\" class=\"dataframe\">\n",
       "  <thead>\n",
       "    <tr style=\"text-align: right;\">\n",
       "      <th></th>\n",
       "      <th>Publisher</th>\n",
       "      <th>Headquarters</th>\n",
       "      <th>Est.</th>\n",
       "      <th>Notable games published</th>\n",
       "      <th>Notes</th>\n",
       "    </tr>\n",
       "  </thead>\n",
       "  <tbody>\n",
       "    <tr>\n",
       "      <th>0</th>\n",
       "      <td>07TH EXPANSION</td>\n",
       "      <td>Japan</td>\n",
       "      <td>2002</td>\n",
       "      <td>Higurashi When They Cry Umineko When They Cry ...</td>\n",
       "      <td>NaN</td>\n",
       "    </tr>\n",
       "    <tr>\n",
       "      <th>1</th>\n",
       "      <td>11 BIT STUDIOS</td>\n",
       "      <td>Warsaw, Poland</td>\n",
       "      <td>2010</td>\n",
       "      <td>Frostpunk This War of Mine Moonlighter</td>\n",
       "      <td>video game developer, marketer, and distributor</td>\n",
       "    </tr>\n",
       "    <tr>\n",
       "      <th>2</th>\n",
       "      <td>1C COMPANY</td>\n",
       "      <td>Moscow, Russia</td>\n",
       "      <td>1991</td>\n",
       "      <td>Il-2 seriesMen of War series</td>\n",
       "      <td>specializes in localization for Russia</td>\n",
       "    </tr>\n",
       "    <tr>\n",
       "      <th>3</th>\n",
       "      <td>2K GAMES</td>\n",
       "      <td>Novato, California, United States</td>\n",
       "      <td>2005</td>\n",
       "      <td>NBA 2K</td>\n",
       "      <td>video game marketer and distributor; subsidiar...</td>\n",
       "    </tr>\n",
       "    <tr>\n",
       "      <th>4</th>\n",
       "      <td>3D REALMS</td>\n",
       "      <td>Garland, Texas, United States</td>\n",
       "      <td>1987</td>\n",
       "      <td>Duke Nukem series</td>\n",
       "      <td>video game developer; also known as Apogee Sof...</td>\n",
       "    </tr>\n",
       "    <tr>\n",
       "      <th>...</th>\n",
       "      <td>...</td>\n",
       "      <td>...</td>\n",
       "      <td>...</td>\n",
       "      <td>...</td>\n",
       "      <td>...</td>\n",
       "    </tr>\n",
       "    <tr>\n",
       "      <th>845</th>\n",
       "      <td>ZOOM</td>\n",
       "      <td>Sapporo, Japan</td>\n",
       "      <td>1988</td>\n",
       "      <td>Overtake</td>\n",
       "      <td>NaN</td>\n",
       "    </tr>\n",
       "    <tr>\n",
       "      <th>846</th>\n",
       "      <td>ZUXXEZ ENTERTAINMENT</td>\n",
       "      <td>Karlsruhe, Germany</td>\n",
       "      <td>2001</td>\n",
       "      <td>NaN</td>\n",
       "      <td>acquired TopWare Interactive in 2001; renamed ...</td>\n",
       "    </tr>\n",
       "    <tr>\n",
       "      <th>847</th>\n",
       "      <td>ZUSHI GAMES</td>\n",
       "      <td>Sheffield, England, UK</td>\n",
       "      <td>1999</td>\n",
       "      <td>NaN</td>\n",
       "      <td>NaN</td>\n",
       "    </tr>\n",
       "    <tr>\n",
       "      <th>848</th>\n",
       "      <td>ZYNGA</td>\n",
       "      <td>San Francisco, California</td>\n",
       "      <td>2007</td>\n",
       "      <td>FarmVilleMafia Wars</td>\n",
       "      <td>NaN</td>\n",
       "    </tr>\n",
       "    <tr>\n",
       "      <th>849</th>\n",
       "      <td>ZYX</td>\n",
       "      <td>Japan</td>\n",
       "      <td>1994</td>\n",
       "      <td>NaN</td>\n",
       "      <td>NaN</td>\n",
       "    </tr>\n",
       "  </tbody>\n",
       "</table>\n",
       "<p>850 rows × 5 columns</p>\n",
       "</div>"
      ],
      "text/plain": [
       "                Publisher                       Headquarters  Est.  \\\n",
       "0          07TH EXPANSION                              Japan  2002   \n",
       "1          11 BIT STUDIOS                     Warsaw, Poland  2010   \n",
       "2              1C COMPANY                     Moscow, Russia  1991   \n",
       "3                2K GAMES  Novato, California, United States  2005   \n",
       "4               3D REALMS      Garland, Texas, United States  1987   \n",
       "..                    ...                                ...   ...   \n",
       "845                  ZOOM                     Sapporo, Japan  1988   \n",
       "846  ZUXXEZ ENTERTAINMENT                 Karlsruhe, Germany  2001   \n",
       "847           ZUSHI GAMES             Sheffield, England, UK  1999   \n",
       "848                 ZYNGA          San Francisco, California  2007   \n",
       "849                   ZYX                              Japan  1994   \n",
       "\n",
       "                               Notable games published  \\\n",
       "0    Higurashi When They Cry Umineko When They Cry ...   \n",
       "1               Frostpunk This War of Mine Moonlighter   \n",
       "2                         Il-2 seriesMen of War series   \n",
       "3                                               NBA 2K   \n",
       "4                                    Duke Nukem series   \n",
       "..                                                 ...   \n",
       "845                                           Overtake   \n",
       "846                                                NaN   \n",
       "847                                                NaN   \n",
       "848                                FarmVilleMafia Wars   \n",
       "849                                                NaN   \n",
       "\n",
       "                                                 Notes  \n",
       "0                                                  NaN  \n",
       "1      video game developer, marketer, and distributor  \n",
       "2               specializes in localization for Russia  \n",
       "3    video game marketer and distributor; subsidiar...  \n",
       "4    video game developer; also known as Apogee Sof...  \n",
       "..                                                 ...  \n",
       "845                                                NaN  \n",
       "846  acquired TopWare Interactive in 2001; renamed ...  \n",
       "847                                                NaN  \n",
       "848                                                NaN  \n",
       "849                                                NaN  \n",
       "\n",
       "[850 rows x 5 columns]"
      ]
     },
     "execution_count": 40,
     "metadata": {},
     "output_type": "execute_result"
    }
   ],
   "source": [
    "df\n"
   ]
  },
  {
   "cell_type": "code",
   "execution_count": null,
   "metadata": {},
   "outputs": [],
   "source": []
  }
 ],
 "metadata": {
  "kernelspec": {
   "display_name": "Python 3",
   "language": "python",
   "name": "python3"
  },
  "language_info": {
   "codemirror_mode": {
    "name": "ipython",
    "version": 3
   },
   "file_extension": ".py",
   "mimetype": "text/x-python",
   "name": "python",
   "nbconvert_exporter": "python",
   "pygments_lexer": "ipython3",
   "version": "3.8.5"
  },
  "varInspector": {
   "cols": {
    "lenName": 16,
    "lenType": 16,
    "lenVar": 40
   },
   "kernels_config": {
    "python": {
     "delete_cmd_postfix": "",
     "delete_cmd_prefix": "del ",
     "library": "var_list.py",
     "varRefreshCmd": "print(var_dic_list())"
    },
    "r": {
     "delete_cmd_postfix": ") ",
     "delete_cmd_prefix": "rm(",
     "library": "var_list.r",
     "varRefreshCmd": "cat(var_dic_list()) "
    }
   },
   "types_to_exclude": [
    "module",
    "function",
    "builtin_function_or_method",
    "instance",
    "_Feature"
   ],
   "window_display": false
  }
 },
 "nbformat": 4,
 "nbformat_minor": 2
}
